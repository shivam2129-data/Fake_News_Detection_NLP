{
  "nbformat": 4,
  "nbformat_minor": 0,
  "metadata": {
    "colab": {
      "provenance": [],
      "collapsed_sections": []
    },
    "kernelspec": {
      "name": "python3",
      "display_name": "Python 3"
    },
    "language_info": {
      "name": "python"
    }
  },
  "cells": [
    {
      "cell_type": "code",
      "execution_count": 242,
      "metadata": {
        "colab": {
          "base_uri": "https://localhost:8080/"
        },
        "id": "Yg0sadTeeMO2",
        "outputId": "369f9d83-b2a3-455f-94ee-c290f381a9c4"
      },
      "outputs": [
        {
          "output_type": "stream",
          "name": "stdout",
          "text": [
            "Looking in indexes: https://pypi.org/simple, https://us-python.pkg.dev/colab-wheels/public/simple/\n",
            "Requirement already satisfied: nltk in /usr/local/lib/python3.7/dist-packages (3.7)\n",
            "Requirement already satisfied: click in /usr/local/lib/python3.7/dist-packages (from nltk) (7.1.2)\n",
            "Requirement already satisfied: tqdm in /usr/local/lib/python3.7/dist-packages (from nltk) (4.64.1)\n",
            "Requirement already satisfied: regex>=2021.8.3 in /usr/local/lib/python3.7/dist-packages (from nltk) (2022.6.2)\n",
            "Requirement already satisfied: joblib in /usr/local/lib/python3.7/dist-packages (from nltk) (1.2.0)\n"
          ]
        }
      ],
      "source": [
        "!pip install nltk"
      ]
    },
    {
      "cell_type": "code",
      "source": [
        "import csv                               # csv reader\n",
        "from sklearn.svm import LinearSVC\n",
        "from sklearn.linear_model import LogisticRegression\n",
        "from nltk.classify import SklearnClassifier\n",
        "from sklearn.ensemble import RandomForestClassifier\n",
        "from sklearn.pipeline import Pipeline\n",
        "import numpy as np\n",
        "import re\n",
        "from sklearn.metrics import accuracy_score\n",
        "from sklearn.metrics import precision_score\n",
        "from sklearn.metrics import recall_score\n",
        "from sklearn.metrics import f1_score\n",
        "import sys\n",
        "import string\n",
        "from sklearn.naive_bayes import MultinomialNB\n",
        "import nltk\n",
        "nltk.download('punkt')\n",
        "nltk.download('stopwords')\n",
        "from nltk import pos_tag\n",
        "from nltk.corpus import stopwords\n",
        "from nltk.stem import WordNetLemmatizer\n",
        "nltk.download('wordnet')\n",
        "nltk.download('omw-1.4')\n",
        "from sklearn.metrics import classification_report"
      ],
      "metadata": {
        "colab": {
          "base_uri": "https://localhost:8080/"
        },
        "id": "gtCFLaXfeXjD",
        "outputId": "ef48f19d-25a7-463d-a457-4f2e09ceee95"
      },
      "execution_count": 3,
      "outputs": [
        {
          "output_type": "stream",
          "name": "stderr",
          "text": [
            "[nltk_data] Downloading package punkt to /root/nltk_data...\n",
            "[nltk_data]   Unzipping tokenizers/punkt.zip.\n",
            "[nltk_data] Downloading package stopwords to /root/nltk_data...\n",
            "[nltk_data]   Unzipping corpora/stopwords.zip.\n",
            "[nltk_data] Downloading package wordnet to /root/nltk_data...\n",
            "[nltk_data] Downloading package omw-1.4 to /root/nltk_data...\n"
          ]
        }
      ]
    },
    {
      "cell_type": "code",
      "source": [
        "def load_data(path):\n",
        "    \"\"\"Load data from a tab-separated file and append it to raw_data.\"\"\"\n",
        "    \n",
        "    \n",
        "    with open(\"fake_news.tsv\") as f:\n",
        "        reader = csv.reader(f, delimiter='\\t')\n",
        "        for line in reader:\n",
        "            if line[0] == \"Id\":  # skip header\n",
        "                continue   \n",
        "            d.append(line)\n",
        "            (label, text) = parse_data_line(line)\n",
        "            raw_data.append((text, label))       \n",
        "\n",
        "def split_and_preprocess_data(percentage):\n",
        "    \"\"\"Split the data between train_data and test_data according to the percentage\n",
        "    and performs the preprocessing.\"\"\"\n",
        "    num_samples = len(raw_data)\n",
        "    num_training_samples = int((percentage * num_samples))\n",
        "    \n",
        "    for (text, label) in raw_data[:num_training_samples]:\n",
        "        train_data.append((to_feature_vector(pre_process(text,\"False\")),label)) # pre_process now takes 2 arguments, set true when want to do stop word removal \n",
        "    for (text, label) in raw_data[num_training_samples:]:\n",
        "        test_data.append((to_feature_vector(pre_process(text,\"False\")),label))\n",
        "        "
      ],
      "metadata": {
        "id": "1dds3Gp8eZow"
      },
      "execution_count": 244,
      "outputs": []
    },
    {
      "cell_type": "code",
      "source": [
        "def convert_label(label):\n",
        "    \"\"\"Converts the multiple classes into two,\n",
        "    making it a binary distinction between fake news and real.\"\"\"\n",
        "    #return label\n",
        "    # Converting the multiclass labels to binary label\n",
        "    labels_map = {\n",
        "        'true': 'REAL',\n",
        "        'mostly-true': 'REAL',\n",
        "        'half-true': 'REAL',\n",
        "        'false': 'FAKE',\n",
        "        'barely-true': 'FAKE',\n",
        "        'pants-fire': 'FAKE'\n",
        "    }\n",
        "    return labels_map[label]\n",
        "\n",
        "\n",
        "def parse_data_line(data_line):\n",
        "    \n",
        "    label=convert_label(data_line[1]) #label element: data_line[1] read from file\n",
        "    text=data_line[2] #statement element: data_line[2] read from file\n",
        "    return (label, text)"
      ],
      "metadata": {
        "id": "Z5GIZH9peckY"
      },
      "execution_count": 245,
      "outputs": []
    },
    {
      "cell_type": "code",
      "source": [
        "def pre_process(text,stopword=\"False\"):\n",
        "    # Sentence segmentation is already done as the sentences are provided as different rows\n",
        "    # word tokenisation\n",
        "    text = re.sub(r\"(\\w)([.,;:!?'\\\"”\\)])\", r\"\\1 \\2\", text) # separates punctuation at ends of strings by replacing the punctations by the string\n",
        "    text = re.sub(r\"([.,;:!?'\\\"“\\(\\)])(\\w)\", r\"\\1 \\2\", text) # separates punctuation at beginning of strings by replacing the punctations by the string\n",
        "    tokens = re.split(r\"\\s+\",text) # with space as delimeter it split the spaced text\n",
        "    tokens = [t.lower() for t in tokens]\n",
        "    wnl = WordNetLemmatizer() \n",
        "    for i in range(0,len(tokens)):\n",
        "      tokens[i]=wnl.lemmatize(tokens[i]) # Lemmatizing strings to thier dictionry forms\n",
        "    if stopword==\"True\": # Use only to check that the accuracy drops by removing stop words\n",
        "      N = stopwords.words('english')\n",
        "      word_stop=[]\n",
        "      for i in tokens:\n",
        "        if i not in N:\n",
        "          word_stop.append(i)\n",
        "      x1=[]\n",
        "      for i in range(2,len(word_stop)):\n",
        "        x1.append(('{0}*{1}'.format(word_stop[i-2],''.join(word_stop[i-1])))) #Creating Bigram\n",
        "    \n",
        "      return x1\n",
        "    else:\n",
        "      x=[]\n",
        "      for i in range(2,len(tokens)):\n",
        "        x.append(('{0}*{1}'.format(tokens[i-2],''.join(tokens[i-1])))) #Creating Bigram\n",
        "    \n",
        "    return x\n"
      ],
      "metadata": {
        "id": "5YR57KvFegE1"
      },
      "execution_count": 246,
      "outputs": []
    },
    {
      "cell_type": "code",
      "source": [
        "global_feature_dict = {} # A global dictionary of features\n",
        "\n",
        "def to_feature_vector(tokens):\n",
        "    \n",
        "    local_dict={}\n",
        "    x1=[]\n",
        "    st=[\"percent\",\"state\",\"years\",\"states\",\"year\",\"people\",\"million\",\"would\",\"jobs\",\"one\",\"us\",\"new\",\"since\",\"texas\",\"every\"]\n",
        "    for i in range(2,len(st)):\n",
        "      x1.append(('{0}*{1}'.format(st[i-2],''.join(st[i-1])))) #gluing the frequent Real words in the same format as Bigram of tokens for comaprison\n",
        "    \n",
        "\n",
        "    unglue=\"False\"\n",
        "\n",
        "    if unglue==\"False\": # Accuracy reduces if we unglue the tokens and then check, hence seeting to false\n",
        "      for i in tokens:\n",
        "        if i in local_dict:\n",
        "            if i in x1:\n",
        "              local_dict[i]+=5 # Adding 5 to the value of key if key already present in dictionary and also present in frequent words\n",
        "            else:\n",
        "              local_dict[i]+=1 # Adding 1 to the value of key if key already present in dictionary and not present in frequent words\n",
        "        else:\n",
        "          \n",
        "            local_dict[i]=1 # Adding key-value(value as 1) pair to the dictionary\n",
        "    if unglue==\"True\":  # Set to true only if you wish to verify that accuracy reduces from 60.2% to 59.1%\n",
        "      st=[\"percent\",\"state\",\"years\",\"states\",\"year\",\"people\",\"million\",\"would\",\"jobs\",\"one\",\"us\",\"new\",\"since\",\"texas\",\"every\"]\n",
        "      local_dict={}\n",
        "      for i in tokens:\n",
        "        if i in local_dict:\n",
        "            z=i\n",
        "            x=z.split(\"*\")\n",
        "            if x[0] in st or x[1] in st:\n",
        "              local_dict[i]+=5  #Adding 5 to the value of key if key already present in dictionary and not present in frequent words\n",
        "            else:\n",
        "              local_dict[i]+=1  #Adding 1 to the value of key if key already present in dictionary and not present in frequent words\n",
        "        else:\n",
        "            z=i\n",
        "            x=z.split(\"*\")\n",
        "            if x[0] in st or x[1] in st:\n",
        "              local_dict[i]=5 #Adding key-value(value as 5) pair to the dictionary if present in frequent word\n",
        "            else:\n",
        "              local_dict[i]=1   # Adding key-value(value as 1) pair to the dictionary if not preset in frequent word\n",
        "            \n",
        "    for w in tokens:\n",
        "          try:\n",
        "            i = global_feature_dict[w] # Checks if the key is already present in the dictionary, do nothing\n",
        "          \n",
        "          except KeyError:\n",
        "            i = len(global_feature_dict) + 1 # If it is not present then we add 1 to the length of the dictioanry\n",
        "                \n",
        "            global_feature_dict[w] = i # Then assign the new length as the value to the new key\n",
        "            \n",
        "    return local_dict       "
      ],
      "metadata": {
        "id": "MSQUUoD5e1my"
      },
      "execution_count": 247,
      "outputs": []
    },
    {
      "cell_type": "code",
      "source": [
        "# TRAINING AND VALIDATING OUR CLASSIFIER\n",
        "\n",
        "def train_classifier(data,lin,mul,log,ran): # using boolean values to select differet models just to check accuracy for reference.\n",
        "    print(\"Training Classifier...\")\n",
        "    \n",
        "    if lin==\"True\":\n",
        "      pipeline = Pipeline([('model', LinearSVC(class_weight={0:1.1,1:1},C=0.006))]) #Decreasing cost parameter to penalizing samples inside the marging less\n",
        "                                                                                    #And giving more weight to Real\n",
        "    elif mul==\"True\":\n",
        "      pipeline = Pipeline([('model', MultinomialNB())])\n",
        "    elif log==\"True\":\n",
        "      pipeline = Pipeline([('model', LogisticRegression())])\n",
        "    elif ran==\"True\":\n",
        "      pipeline = Pipeline([('model', RandomForestClassifier())])\n",
        "    \n",
        "    \n",
        "    return SklearnClassifier(pipeline).train(data)"
      ],
      "metadata": {
        "id": "PX6sKRW9e2Dr"
      },
      "execution_count": 2,
      "outputs": []
    },
    {
      "cell_type": "code",
      "source": [
        "def cross_validate(dataset, folds):\n",
        "    results = []\n",
        "    fold_size = int(len(dataset)/folds) + 1\n",
        "    cv=np.array([])\n",
        "    accuracy=[]\n",
        "    precision=[]\n",
        "    recall=[]\n",
        "    f1=[]\n",
        "    j=0\n",
        "\n",
        "    for i in range(0,len(dataset),int(fold_size)):\n",
        "        data_fold=dataset[0:i]+dataset[i+fold_size:]\n",
        "        test_fold=dataset[i:i+fold_size]\n",
        "        # insert code here that trains and tests on the 10 folds of data in the dataset\n",
        "        print(\"Fold start on items %d - %d\" % (i, i+fold_size))\n",
        "        # FILL IN THE METHOD HERE\n",
        "        classifier=train_classifier(data_fold,\"True\",\"False\",\"Flase\",\"False\")\n",
        "        predict=predict_labels([x[0] for x in test_fold],classifier)\n",
        "        if i ==7380:\n",
        "          global_test.append([x[1] for x in test_fold])\n",
        "          global_predict.append(predict)\n",
        "          global_test_text.append([x[0] for x in test_fold])\n",
        "        accuracy.append(accuracy_score([x[1] for x in test_fold],predict))\n",
        "        precision.append(precision_score([x[1] for x in test_fold], predict, average='weighted'))\n",
        "        recall.append(recall_score([x[1] for x in test_fold], predict, average='weighted'))\n",
        "        f1.append(f1_score([x[1] for x in test_fold], predict, average='weighted'))\n",
        "\n",
        "        \n",
        "    cv=[100*np.mean(accuracy),100*np.mean(precision),100*np.mean(recall),100*np.mean(f1)]\n",
        "           \n",
        "    return cv"
      ],
      "metadata": {
        "id": "dpoJdwhZe5S6"
      },
      "execution_count": 249,
      "outputs": []
    },
    {
      "cell_type": "code",
      "source": [
        "# PREDICTING LABELS GIVEN A CLASSIFIER\n",
        "\n",
        "def predict_labels(samples, classifier):\n",
        "    \"\"\"Assuming preprocessed samples, return their predicted labels from the classifier model.\"\"\"\n",
        "    return classifier.classify_many(samples)\n",
        "\n",
        "def predict_label_from_raw(sample, classifier):\n",
        "    \"\"\"Assuming raw text, return its predicted label from the classifier model.\"\"\"\n",
        "    return classifier.classify(to_feature_vector(preProcess(reviewSample)))"
      ],
      "metadata": {
        "id": "BSuYPD5Re7Ot"
      },
      "execution_count": 250,
      "outputs": []
    },
    {
      "cell_type": "code",
      "source": [
        "# MAIN\n",
        "\n",
        "# loading reviews\n",
        "# initialize global lists that will be appended to by the methods below\n",
        "raw_data = []          # the filtered data from the dataset file\n",
        "train_data = []        # the pre-processed training data as a percentage of the total dataset\n",
        "test_data = []         # the pre-processed test data as a percentage of the total dataset\n",
        "global_test=[]\n",
        "global_predict=[]\n",
        "global_test_text=[]\n",
        "global_text=[]\n",
        "d=[]\n",
        "\n",
        "\n",
        "# references to the data files\n",
        "data_file_path = 'fake_news.tsv'\n",
        "\n",
        "# Do the actual stuff (i.e. call the functions we've made)\n",
        "# We parse the dataset and put it in a raw data list\n",
        "print(\"Now %d rawData, %d trainData, %d testData\" % (len(raw_data), len(train_data), len(test_data)),\n",
        "      \"Preparing the dataset...\",sep='\\n')\n",
        "\n",
        "load_data(data_file_path) \n",
        "\n",
        "# We split the raw dataset into a set of training data and a set of test data (80/20)\n",
        "# You do the cross validation on the 80% (training data)\n",
        "# We print the number of training samples and the number of features before the split\n",
        "print(\"Now %d rawData, %d trainData, %d testData\" % (len(raw_data), len(train_data), len(test_data)),\n",
        "      \"Preparing training and test data...\",sep='\\n')\n",
        "\n",
        "split_and_preprocess_data(0.8)\n",
        "\n",
        "\n",
        "# We print the number of training samples and the number of features after the split\n",
        "print(\"After split, %d rawData, %d trainData, %d testData\" % (len(raw_data), len(train_data), len(test_data)),\n",
        "      \"Training Samples: \", len(train_data), \"Features: \", len(global_feature_dict), sep='\\n')\n",
        "\n",
        "\n"
      ],
      "metadata": {
        "colab": {
          "base_uri": "https://localhost:8080/",
          "height": 270
        },
        "id": "blrML1n8e914",
        "outputId": "35cc9944-5672-4d51-b726-7a90361c6803"
      },
      "execution_count": 4,
      "outputs": [
        {
          "output_type": "stream",
          "name": "stdout",
          "text": [
            "Now 0 rawData, 0 trainData, 0 testData\n",
            "Preparing the dataset...\n"
          ]
        },
        {
          "output_type": "error",
          "ename": "NameError",
          "evalue": "ignored",
          "traceback": [
            "\u001b[0;31m---------------------------------------------------------------------------\u001b[0m",
            "\u001b[0;31mNameError\u001b[0m                                 Traceback (most recent call last)",
            "\u001b[0;32m<ipython-input-4-60f08289fbd3>\u001b[0m in \u001b[0;36m<module>\u001b[0;34m\u001b[0m\n\u001b[1;32m     21\u001b[0m       \"Preparing the dataset...\",sep='\\n')\n\u001b[1;32m     22\u001b[0m \u001b[0;34m\u001b[0m\u001b[0m\n\u001b[0;32m---> 23\u001b[0;31m \u001b[0mload_data\u001b[0m\u001b[0;34m(\u001b[0m\u001b[0mdata_file_path\u001b[0m\u001b[0;34m)\u001b[0m\u001b[0;34m\u001b[0m\u001b[0;34m\u001b[0m\u001b[0m\n\u001b[0m\u001b[1;32m     24\u001b[0m \u001b[0;34m\u001b[0m\u001b[0m\n\u001b[1;32m     25\u001b[0m \u001b[0;31m# We split the raw dataset into a set of training data and a set of test data (80/20)\u001b[0m\u001b[0;34m\u001b[0m\u001b[0;34m\u001b[0m\u001b[0;34m\u001b[0m\u001b[0m\n",
            "\u001b[0;31mNameError\u001b[0m: name 'load_data' is not defined"
          ]
        }
      ]
    },
    {
      "cell_type": "code",
      "source": [
        "cross_validate(train_data, 10)  # will work and output overall performance of p, r, f-score when cv implemented"
      ],
      "metadata": {
        "colab": {
          "base_uri": "https://localhost:8080/"
        },
        "id": "5rRKVfGaheFN",
        "outputId": "c6880919-a9dd-4e04-ab50-3a3bc2bd91b6"
      },
      "execution_count": 252,
      "outputs": [
        {
          "output_type": "stream",
          "name": "stdout",
          "text": [
            "Fold start on items 0 - 820\n",
            "Training Classifier...\n",
            "Fold start on items 820 - 1640\n",
            "Training Classifier...\n",
            "Fold start on items 1640 - 2460\n",
            "Training Classifier...\n",
            "Fold start on items 2460 - 3280\n",
            "Training Classifier...\n",
            "Fold start on items 3280 - 4100\n",
            "Training Classifier...\n",
            "Fold start on items 4100 - 4920\n",
            "Training Classifier...\n",
            "Fold start on items 4920 - 5740\n",
            "Training Classifier...\n",
            "Fold start on items 5740 - 6560\n",
            "Training Classifier...\n",
            "Fold start on items 6560 - 7380\n",
            "Training Classifier...\n",
            "Fold start on items 7380 - 8200\n",
            "Training Classifier...\n"
          ]
        },
        {
          "output_type": "execute_result",
          "data": {
            "text/plain": [
              "[60.2799471344467, 59.65151068538373, 60.2799471344467, 58.95256220964574]"
            ]
          },
          "metadata": {},
          "execution_count": 252
        }
      ]
    },
    {
      "cell_type": "code",
      "source": [
        "from sklearn import metrics\n",
        "import matplotlib.pyplot as plt\n",
        "# a function to make the confusion matrix readable and pretty\n",
        "def confusion_matrix_heatmap(y_test, preds, labels):\n",
        "    \"\"\"Function to plot a confusion matrix\"\"\"\n",
        "    # pass labels to the confusion matrix function to ensure right order\n",
        "    cm = metrics.confusion_matrix(y_test, preds,labels=labels)\n",
        "    print(cm)\n",
        "    fig = plt.figure(figsize=(10,10))\n",
        "    ax = fig.add_subplot(111)\n",
        "    cax = ax.matshow(cm)\n",
        "    plt.title('Confusion matrix of the classifier')\n",
        "    fig.colorbar(cax)\n",
        "    ax.set_xticks(np.arange(len(labels)))\n",
        "    ax.set_yticks(np.arange(len(labels)))\n",
        "    ax.set_xticklabels( labels, rotation=45)\n",
        "    ax.set_yticklabels( labels)\n",
        "\n",
        "    for i in range(len(cm)):\n",
        "        for j in range(len(cm)):\n",
        "            text = ax.text(j, i, cm[i, j],\n",
        "                           ha=\"center\", va=\"center\", color=\"w\")\n",
        "\n",
        "    plt.xlabel('Predicted')\n",
        "    plt.ylabel('True')\n",
        "    \n",
        "    # fix for mpl bug that cuts off top/bottom of seaborn viz:\n",
        "    b, t = plt.ylim() # discover the values for bottom and top\n",
        "    b += 0.5 # Add 0.5 to the bottom\n",
        "    t -= 0.5 # Subtract 0.5 from the top\n",
        "    plt.ylim(b, t) # update the ylim(bottom, top) values\n",
        "    plt.show() # ta-da!\n",
        "    plt.show()"
      ],
      "metadata": {
        "id": "f69ImQbghi-e"
      },
      "execution_count": 253,
      "outputs": []
    },
    {
      "cell_type": "code",
      "source": [
        "confusion_matrix_heatmap(global_test[0],global_predict[0],[\"REAL\",\"FAKE\"]) #Plotting confusion matrix on the last fold of data"
      ],
      "metadata": {
        "colab": {
          "base_uri": "https://localhost:8080/",
          "height": 667
        },
        "id": "b31LduEZUw8E",
        "outputId": "cd2ab432-8789-4c56-f987-c60bf97cbdb6"
      },
      "execution_count": 254,
      "outputs": [
        {
          "output_type": "stream",
          "name": "stdout",
          "text": [
            "[[362 117]\n",
            " [192 141]]\n"
          ]
        },
        {
          "output_type": "display_data",
          "data": {
            "text/plain": [
              "<Figure size 720x720 with 2 Axes>"
            ],
            "image/png": "[encoded data removed]"
          },
          "metadata": {
            "needs_background": "light"
          }
        }
      ]
    },
    {
      "cell_type": "code",
      "source": [],
      "metadata": {
        "id": "3XB-N84Qb9zu"
      },
      "execution_count": 254,
      "outputs": []
    }
  ]
}