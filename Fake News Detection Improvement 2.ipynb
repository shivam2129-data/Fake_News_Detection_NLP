{
  "nbformat": 4,
  "nbformat_minor": 0,
  "metadata": {
    "colab": {
      "provenance": [],
      "collapsed_sections": []
    },
    "kernelspec": {
      "name": "python3",
      "display_name": "Python 3"
    },
    "language_info": {
      "name": "python"
    }
  },
  "cells": [
    {
      "cell_type": "code",
      "execution_count": 178,
      "metadata": {
        "colab": {
          "base_uri": "https://localhost:8080/"
        },
        "id": "Yg0sadTeeMO2",
        "outputId": "3d5b6680-30f8-4991-a8df-e03f3e417f06"
      },
      "outputs": [
        {
          "output_type": "stream",
          "name": "stdout",
          "text": [
            "Looking in indexes: https://pypi.org/simple, https://us-python.pkg.dev/colab-wheels/public/simple/\n",
            "Requirement already satisfied: nltk in /usr/local/lib/python3.7/dist-packages (3.7)\n",
            "Requirement already satisfied: regex>=2021.8.3 in /usr/local/lib/python3.7/dist-packages (from nltk) (2022.6.2)\n",
            "Requirement already satisfied: tqdm in /usr/local/lib/python3.7/dist-packages (from nltk) (4.64.1)\n",
            "Requirement already satisfied: joblib in /usr/local/lib/python3.7/dist-packages (from nltk) (1.2.0)\n",
            "Requirement already satisfied: click in /usr/local/lib/python3.7/dist-packages (from nltk) (7.1.2)\n"
          ]
        }
      ],
      "source": [
        "!pip install nltk"
      ]
    },
    {
      "cell_type": "code",
      "source": [
        "import csv                               # csv reader\n",
        "from sklearn.svm import LinearSVC\n",
        "from sklearn.linear_model import LogisticRegression\n",
        "from nltk.classify import SklearnClassifier\n",
        "from sklearn.ensemble import RandomForestClassifier\n",
        "from sklearn.pipeline import Pipeline\n",
        "from sklearn.metrics import precision_recall_fscore_support # to report on precision and recall\n",
        "import numpy as np\n",
        "import pandas as pd\n",
        "import re\n",
        "from sklearn.metrics import accuracy_score\n",
        "from sklearn.metrics import precision_score\n",
        "from sklearn.metrics import recall_score\n",
        "from sklearn.metrics import f1_score\n",
        "import sys\n",
        "import string\n",
        "from sklearn.naive_bayes import MultinomialNB\n",
        "import nltk\n",
        "nltk.download('punkt')\n",
        "nltk.download('stopwords')\n",
        "from nltk import pos_tag\n",
        "from nltk.corpus import stopwords\n",
        "from nltk.stem import WordNetLemmatizer\n",
        "nltk.download('wordnet')\n",
        "nltk.download('omw-1.4')"
      ],
      "metadata": {
        "colab": {
          "base_uri": "https://localhost:8080/"
        },
        "id": "gtCFLaXfeXjD",
        "outputId": "1ba06d2a-410c-4f5a-eacf-047ed4c84615"
      },
      "execution_count": 216,
      "outputs": [
        {
          "output_type": "stream",
          "name": "stderr",
          "text": [
            "[nltk_data] Downloading package punkt to /root/nltk_data...\n",
            "[nltk_data]   Package punkt is already up-to-date!\n",
            "[nltk_data] Downloading package stopwords to /root/nltk_data...\n",
            "[nltk_data]   Package stopwords is already up-to-date!\n",
            "[nltk_data] Downloading package wordnet to /root/nltk_data...\n",
            "[nltk_data]   Package wordnet is already up-to-date!\n",
            "[nltk_data] Downloading package omw-1.4 to /root/nltk_data...\n",
            "[nltk_data]   Package omw-1.4 is already up-to-date!\n"
          ]
        },
        {
          "output_type": "execute_result",
          "data": {
            "text/plain": [
              "True"
            ]
          },
          "metadata": {},
          "execution_count": 216
        }
      ]
    },
    {
      "cell_type": "code",
      "source": [
        "def load_data(path):\n",
        "    \"\"\"Load data from a tab-separated file and append it to raw_data.\"\"\"\n",
        "    data=pd.DataFrame()\n",
        "    \n",
        "    with open(\"fake_news.tsv\") as f:\n",
        "        reader = csv.reader(f, delimiter='\\t')\n",
        "        for line in reader:\n",
        "            if line[0] == \"Id\":  # skip header\n",
        "              continue\n",
        "            (label, text,dic) = parse_data_line(line) \n",
        "            #currenlty returing the label, the statement and dictionary value of columns:total_half_true_counts, total_mostly_true_counts as key and value as 1 \n",
        "            raw_data.append((text, label,dic))  # appending the text, label and the new dictionary in raw data \n",
        "\n",
        "def split_and_preprocess_data(percentage):\n",
        "    \"\"\"Split the data between train_data and test_data according to the percentage\n",
        "    and performs the preprocessing.\"\"\"\n",
        "    num_samples = len(raw_data)\n",
        "    num_training_samples = int((percentage * num_samples))\n",
        "    \n",
        "    for (text, label,dic) in raw_data[:num_training_samples]:\n",
        "        train_data.append((to_feature_vector(pre_process(text,\"False\"),dic),label)) # to_feature_vector takes two arguments, the tokens which it converts to dictionary and the dictionary from raw_data\n",
        "    for (text, label,dic) in raw_data[num_training_samples:]:\n",
        "        test_data.append((to_feature_vector(pre_process(text,\"False\"),dic),label))\n",
        "        "
      ],
      "metadata": {
        "id": "1dds3Gp8eZow"
      },
      "execution_count": 217,
      "outputs": []
    },
    {
      "cell_type": "code",
      "source": [
        "def convert_label(label):\n",
        "    \"\"\"Converts the multiple classes into two,\n",
        "    making it a binary distinction between fake news and real.\"\"\"\n",
        "    #return label\n",
        "    # Converting the multiclass labels to binary label\n",
        "    labels_map = {\n",
        "        'true': 'REAL',\n",
        "        'mostly-true': 'REAL',\n",
        "        'half-true': 'REAL',\n",
        "        'false': 'FAKE',\n",
        "        'barely-true': 'FAKE',\n",
        "        'pants-fire': 'FAKE'\n",
        "    }\n",
        "    return labels_map[label]\n",
        "\n",
        "\n",
        "def parse_data_line(data_line):\n",
        "    \n",
        "    label=convert_label(data_line[1]) #label element: data_line[1] read from file\n",
        "    text=data_line[2] #statement element: data_line[2] read from file\n",
        "    \n",
        "    dic3=dict.fromkeys(data_line[8:14],1) #creating dictionary for all the columns with column value as key and value as 1\n",
        "    dic2=dict.fromkeys(data_line[8:9]+data_line[9:10]+data_line[12:13],1) #creating dictionary for total_barely_true_counts, total_false_counts,total_pants_on_fire_counts with column value as key and value as 1\n",
        "    dic1=dict.fromkeys(data_line[10:11] + data_line[11:12],1) #creating dictionary for total_half_true_counts, total_mostly_true_counts with column value as key and value as 1\n",
        "    \n",
        "    return (label, text,dic1)"
      ],
      "metadata": {
        "id": "Z5GIZH9peckY"
      },
      "execution_count": 218,
      "outputs": []
    },
    {
      "cell_type": "code",
      "source": [
        "vect=[]\n",
        "def pre_process(text,stopword=\"False\"):\n",
        "    \n",
        "    text = re.sub(r\"(\\w)([.,;:!?'\\\"”\\)])\", r\"\\1 \\2\", text) # separates punctuation at ends of strings\n",
        "    text = re.sub(r\"([.,;:!?'\\\"“\\(\\)])(\\w)\", r\"\\1 \\2\", text) # separates punctuation at beginning of strings\n",
        "    tokens = re.split(r\"\\s+\",text)\n",
        "    tokens = [t.lower() for t in tokens]\n",
        "    wnl = WordNetLemmatizer()\n",
        "    for i in range(0,len(tokens)):\n",
        "      tokens[i]=wnl.lemmatize(tokens[i])\n",
        "    if stopword==\"True\": # Use only to check that the accuracy drops by removing stop words\n",
        "      N = stopwords.words('english')\n",
        "      word_stop=[]\n",
        "      for i in tokens:\n",
        "        if i not in N:\n",
        "          word_stop.append(i)\n",
        "      x1=[]\n",
        "      for i in range(2,len(word_stop)):\n",
        "        x1.append(('{0}{1}'.format(word_stop[i-2],''.join(word_stop[i-1])))) #Creating Bigram\n",
        "    \n",
        "      return x1\n",
        "    else:\n",
        "      x=[]\n",
        "      for i in range(2,len(tokens)):\n",
        "        x.append(('{0}{1}'.format(tokens[i-2],''.join(tokens[i-1])))) #Creating Bigram\n",
        "        \"\"\" Not using the * here as 5th question because it was used only for glue, unglue check, \n",
        "        as unglue was not useful hence discarding it.\"\"\"\n",
        "\n",
        "    \n",
        "    return x\n"
      ],
      "metadata": {
        "id": "5YR57KvFegE1"
      },
      "execution_count": 219,
      "outputs": []
    },
    {
      "cell_type": "code",
      "source": [
        "global_feature_dict = {} # A global dictionary of features\n",
        "\n",
        "def to_feature_vector(tokens,dic):\n",
        "    \n",
        "    local_dict={}\n",
        "    for i in tokens:\n",
        "      if i in local_dict:\n",
        "        #if i not in k:\n",
        "          if i in (\"percent\",\"state\",\"years\",\"states\",\"year\",\"people\",\"million\",\"would\",\"jobs\",\"one\",\"us\",\"new\",\"since\",\"texas\",\"every\"):\n",
        "            local_dict[i]+=5\n",
        "          else:\n",
        "            local_dict[i]+=1\n",
        "      else:\n",
        "        #if i not in k:\n",
        "          local_dict[i]=1\n",
        "    \n",
        "    for w in tokens:\n",
        "          try:\n",
        "            i = global_feature_dict[w]\n",
        "          \n",
        "          except KeyError:\n",
        "            i = len(global_feature_dict) + 1\n",
        "                \n",
        "            global_feature_dict[w] = i\n",
        "    local_dict.update(dic)\n",
        "    return local_dict       "
      ],
      "metadata": {
        "id": "MSQUUoD5e1my"
      },
      "execution_count": 220,
      "outputs": []
    },
    {
      "cell_type": "code",
      "source": [
        "# TRAINING AND VALIDATING OUR CLASSIFIER\n",
        "\n",
        "def train_classifier(data,lin,mul,log,ran):\n",
        "    print(\"Training Classifier...\")\n",
        "    \n",
        "    if lin==\"True\":\n",
        "      pipeline = Pipeline([('model', LinearSVC(class_weight={0:1,1:1.2},C=0.006))])\n",
        "    elif mul==\"True\":\n",
        "      pipeline = Pipeline([('model', MultinomialNB())])\n",
        "    elif log==\"True\":\n",
        "      pipeline = Pipeline([('model', LogisticRegression())])\n",
        "    elif ran==\"True\":\n",
        "      pipeline = Pipeline([('model', RandomForestClassifier())])\n",
        "    \n",
        "    \n",
        "    return SklearnClassifier(pipeline).train(data)"
      ],
      "metadata": {
        "id": "PX6sKRW9e2Dr"
      },
      "execution_count": 221,
      "outputs": []
    },
    {
      "cell_type": "code",
      "source": [
        "from pickle import NONE\n",
        "#solution\n",
        "from sklearn.metrics import classification_report\n",
        "\n",
        "\n",
        "def cross_validate(dataset, folds):\n",
        "    results = []\n",
        "    fold_size = int(len(dataset)/folds) + 1\n",
        "    cv=np.array([])\n",
        "    accuracy=[]\n",
        "    precision=[]\n",
        "    recall=[]\n",
        "    f1=[]\n",
        "    j=0\n",
        "\n",
        "    for i in range(0,len(dataset),int(fold_size)):\n",
        "        data_fold=dataset[0:i]+dataset[i+fold_size:]\n",
        "        test_fold=dataset[i:i+fold_size]\n",
        "        # insert code here that trains and tests on the 10 folds of data in the dataset\n",
        "        print(\"Fold start on items %d - %d\" % (i, i+fold_size))\n",
        "        # FILL IN THE METHOD HERE\n",
        "        classifier=train_classifier(data_fold,\"True\",\"False\",\"False\",\"False\")\n",
        "        predict=predict_labels([x[0] for x in test_fold],classifier)\n",
        "        if i ==7380:\n",
        "          global_test.append([x[1] for x in test_fold])\n",
        "          global_predict.append(predict)\n",
        "          global_test_text.append([x[0] for x in test_fold])\n",
        "        accuracy.append(accuracy_score([x[1] for x in test_fold],predict))\n",
        "        precision.append(precision_score([x[1] for x in test_fold], predict, average='weighted'))\n",
        "        recall.append(recall_score([x[1] for x in test_fold], predict, average='weighted'))\n",
        "        f1.append(f1_score([x[1] for x in test_fold], predict, average='weighted'))\n",
        "\n",
        "        \n",
        "    cv=[np.mean(accuracy),np.mean(precision),np.mean(recall),np.mean(f1)]\n",
        "           \n",
        "    return cv"
      ],
      "metadata": {
        "id": "dpoJdwhZe5S6"
      },
      "execution_count": 222,
      "outputs": []
    },
    {
      "cell_type": "code",
      "source": [
        "# PREDICTING LABELS GIVEN A CLASSIFIER\n",
        "\n",
        "def predict_labels(samples, classifier):\n",
        "    \"\"\"Assuming preprocessed samples, return their predicted labels from the classifier model.\"\"\"\n",
        "    return classifier.classify_many(samples)\n",
        "\n",
        "def predict_label_from_raw(sample, classifier):\n",
        "    \"\"\"Assuming raw text, return its predicted label from the classifier model.\"\"\"\n",
        "    return classifier.classify(to_feature_vector(preProcess(reviewSample)))"
      ],
      "metadata": {
        "id": "BSuYPD5Re7Ot"
      },
      "execution_count": 223,
      "outputs": []
    },
    {
      "cell_type": "code",
      "source": [
        "# MAIN\n",
        "\n",
        "# loading reviews\n",
        "# initialize global lists that will be appended to by the methods below\n",
        "raw_data = []          # the filtered data from the dataset file\n",
        "train_data = []        # the pre-processed training data as a percentage of the total dataset\n",
        "test_data = []         # the pre-processed test data as a percentage of the total dataset\n",
        "global_test=[]\n",
        "global_predict=[]\n",
        "global_test_text=[]\n",
        "global_text=[]\n",
        "d=[]\n",
        "data=pd.DataFrame()\n",
        "\n",
        "# references to the data files\n",
        "data_file_path = 'fake_news.tsv'\n",
        "\n",
        "# Do the actual stuff (i.e. call the functions we've made)\n",
        "# We parse the dataset and put it in a raw data list\n",
        "print(\"Now %d rawData, %d trainData, %d testData\" % (len(raw_data), len(train_data), len(test_data)),\n",
        "      \"Preparing the dataset...\",sep='\\n')\n",
        "\n",
        "load_data(data_file_path) \n",
        "# We split the raw dataset into a set of training data and a set of test data (80/20)\n",
        "# You do the cross validation on the 80% (training data)\n",
        "# We print the number of training samples and the number of features before the split\n",
        "print(\"Now %d rawData, %d trainData, %d testData\" % (len(raw_data), len(train_data), len(test_data)),\n",
        "      \"Preparing training and test data...\",sep='\\n')\n",
        "\n",
        "split_and_preprocess_data(0.8)\n",
        "\n",
        "\n",
        "# We print the number of training samples and the number of features after the split\n",
        "print(\"After split, %d rawData, %d trainData, %d testData\" % (len(raw_data), len(train_data), len(test_data)),\n",
        "      \"Training Samples: \", len(train_data), \"Features: \", len(global_feature_dict), sep='\\n')\n"
      ],
      "metadata": {
        "colab": {
          "base_uri": "https://localhost:8080/"
        },
        "id": "blrML1n8e914",
        "outputId": "e55aee0d-e77e-4810-dca2-d905f0ac018b"
      },
      "execution_count": 224,
      "outputs": [
        {
          "output_type": "stream",
          "name": "stdout",
          "text": [
            "Now 0 rawData, 0 trainData, 0 testData\n",
            "Preparing the dataset...\n",
            "Now 10240 rawData, 0 trainData, 0 testData\n",
            "Preparing training and test data...\n",
            "After split, 10240 rawData, 8192 trainData, 2048 testData\n",
            "Training Samples: \n",
            "8192\n",
            "Features: \n",
            "82706\n"
          ]
        }
      ]
    },
    {
      "cell_type": "code",
      "source": [
        "cross_validate(train_data, 10)  # will work and output overall performance of p, r, f-score when cv implemented"
      ],
      "metadata": {
        "colab": {
          "base_uri": "https://localhost:8080/"
        },
        "id": "5rRKVfGaheFN",
        "outputId": "017ad74f-8932-4dfa-ef10-6c8bede78d92"
      },
      "execution_count": 225,
      "outputs": [
        {
          "output_type": "stream",
          "name": "stdout",
          "text": [
            "Fold start on items 0 - 820\n",
            "Training Classifier...\n",
            "Fold start on items 820 - 1640\n",
            "Training Classifier...\n",
            "Fold start on items 1640 - 2460\n",
            "Training Classifier...\n",
            "Fold start on items 2460 - 3280\n",
            "Training Classifier...\n",
            "Fold start on items 3280 - 4100\n",
            "Training Classifier...\n",
            "Fold start on items 4100 - 4920\n",
            "Training Classifier...\n",
            "Fold start on items 4920 - 5740\n",
            "Training Classifier...\n",
            "Fold start on items 5740 - 6560\n",
            "Training Classifier...\n",
            "Fold start on items 6560 - 7380\n",
            "Training Classifier...\n",
            "Fold start on items 7380 - 8200\n",
            "Training Classifier...\n"
          ]
        },
        {
          "output_type": "execute_result",
          "data": {
            "text/plain": [
              "[0.6593289679202211, 0.6632643753484906, 0.6593289679202211, 0.641366899951796]"
            ]
          },
          "metadata": {},
          "execution_count": 225
        }
      ]
    },
    {
      "cell_type": "code",
      "source": [
        "\n",
        "from sklearn import metrics\n",
        "import matplotlib.pyplot as plt\n",
        "# a function to make the confusion matrix readable and pretty\n",
        "def confusion_matrix_heatmap(y_test, preds, labels):\n",
        "    \"\"\"Function to plot a confusion matrix\"\"\"\n",
        "    # pass labels to the confusion matrix function to ensure right order\n",
        "    cm = metrics.confusion_matrix(y_test, preds,labels=labels)\n",
        "    print(cm)\n",
        "    fig = plt.figure(figsize=(10,10))\n",
        "    ax = fig.add_subplot(111)\n",
        "    cax = ax.matshow(cm)\n",
        "    plt.title('Confusion matrix of the classifier')\n",
        "    fig.colorbar(cax)\n",
        "    ax.set_xticks(np.arange(len(labels)))\n",
        "    ax.set_yticks(np.arange(len(labels)))\n",
        "    ax.set_xticklabels( labels, rotation=45)\n",
        "    ax.set_yticklabels( labels)\n",
        "\n",
        "    for i in range(len(cm)):\n",
        "        for j in range(len(cm)):\n",
        "            text = ax.text(j, i, cm[i, j],\n",
        "                           ha=\"center\", va=\"center\", color=\"w\")\n",
        "\n",
        "    plt.xlabel('Predicted')\n",
        "    plt.ylabel('True')\n",
        "    \n",
        "    # fix for mpl bug that cuts off top/bottom of seaborn viz:\n",
        "    b, t = plt.ylim() # discover the values for bottom and top\n",
        "    b += 0.5 # Add 0.5 to the bottom\n",
        "    t -= 0.5 # Subtract 0.5 from the top\n",
        "    plt.ylim(b, t) # update the ylim(bottom, top) values\n",
        "    plt.show() # ta-da!\n",
        "    plt.show()"
      ],
      "metadata": {
        "id": "f69ImQbghi-e"
      },
      "execution_count": 226,
      "outputs": []
    },
    {
      "cell_type": "code",
      "source": [
        "confusion_matrix_heatmap(global_test[0],global_predict[0],[\"REAL\",\"FAKE\"]) #Plotting confusion matrix on the last fold of data"
      ],
      "metadata": {
        "colab": {
          "base_uri": "https://localhost:8080/",
          "height": 667
        },
        "id": "b31LduEZUw8E",
        "outputId": "35971fd6-b7fd-46a9-82d0-10dd402ef5e2"
      },
      "execution_count": 227,
      "outputs": [
        {
          "output_type": "stream",
          "name": "stdout",
          "text": [
            "[[408  71]\n",
            " [183 150]]\n"
          ]
        },
        {
          "output_type": "display_data",
          "data": {
            "text/plain": [
              "<Figure size 720x720 with 2 Axes>"
            ],
            "image/png": "[encoded data removed]"
          },
          "metadata": {
            "needs_background": "light"
          }
        }
      ]
    },
    {
      "cell_type": "code",
      "source": [
        "functions_complete = True  # set to True once you're happy with your methods for cross val\n",
        "if functions_complete:\n",
        "    print(test_data[0])   # have a look at the first test data instance\n",
        "    classifier = train_classifier(train_data,\"True\",\"False\",\"False\",\"False\")  # train the classifier, sending Boolean for other models as well\n",
        "    test_true = [t[1] for t in test_data]   # get the ground-truth labels from the data\n",
        "    test_pred = predict_labels([x[0] for x in test_data], classifier)  # classify the test data to get predicted labels\n",
        "    final_scores = precision_recall_fscore_support(test_true, test_pred, average='weighted') # evaluate\n",
        "    accuracy=accuracy_score(test_true, test_pred)\n",
        "    print(\"Done training!\")\n",
        "    print(\"Precision: %f\\nRecall: %f\\nF Score:%f\" % final_scores[:3])\n",
        "    print(\"Accuracy\",accuracy)"
      ],
      "metadata": {
        "colab": {
          "base_uri": "https://localhost:8080/"
        },
        "id": "uTKNZozlwUEj",
        "outputId": "25ab79d3-e06b-455a-812a-0cf737a691f7"
      },
      "execution_count": 228,
      "outputs": [
        {
          "output_type": "stream",
          "name": "stdout",
          "text": [
            "({'wehave': 1, 'haveinvested': 1, 'investedrecord': 1, 'recordfunding': 1, 'fundingin': 1, 'inprotecting': 1, 'protectingour': 1, 'ourenvironment': 1, '38': 1, '34': 1}, 'FAKE')\n",
            "Training Classifier...\n",
            "Done training!\n",
            "Precision: 0.664650\n",
            "Recall: 0.654297\n",
            "F Score:0.635609\n",
            "Accuracy 0.654296875\n"
          ]
        }
      ]
    },
    {
      "cell_type": "code",
      "source": [],
      "metadata": {
        "id": "6uPH3p_sB4N9"
      },
      "execution_count": null,
      "outputs": []
    }
  ]
}